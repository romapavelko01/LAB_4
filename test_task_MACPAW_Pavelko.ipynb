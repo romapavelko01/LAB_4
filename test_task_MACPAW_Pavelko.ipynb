{
  "nbformat": 4,
  "nbformat_minor": 0,
  "metadata": {
    "colab": {
      "name": "test_task_Pavelko.ipynb",
      "provenance": [],
      "collapsed_sections": [],
      "authorship_tag": "ABX9TyMQtB8qnK0GxyYhLuc41fin",
      "include_colab_link": true
    },
    "kernelspec": {
      "name": "python3",
      "display_name": "Python 3"
    },
    "language_info": {
      "name": "python"
    }
  },
  "cells": [
    {
      "cell_type": "markdown",
      "metadata": {
        "id": "view-in-github",
        "colab_type": "text"
      },
      "source": [
        "<a href=\"https://colab.research.google.com/github/romapavelko01/LAB_4/blob/master/test_task_MACPAW_Pavelko.ipynb\" target=\"_parent\"><img src=\"https://colab.research.google.com/assets/colab-badge.svg\" alt=\"Open In Colab\"/></a>"
      ]
    },
    {
      "cell_type": "code",
      "metadata": {
        "colab": {
          "base_uri": "https://localhost:8080/"
        },
        "id": "TwLxg9gk6pE_",
        "outputId": "27325294-9b80-4204-9401-70c761ce1143"
      },
      "source": [
        "import pandas as pd\n",
        "import numpy as np\n",
        "import statsmodels.api as sm\n",
        "from sklearn.linear_model import LinearRegression\n",
        "from sklearn.model_selection import train_test_split\n",
        "# from statsmodels.stats.diagnostic import het_breuschpagan\n",
        "# from statsmodels.stats.diagnostic import het_white\n",
        "# from statsmodels.formula.api import ols\n",
        "\n",
        "train_df = pd.read_csv('https://raw.githubusercontent.com/MacPaw/msi2021-data-science/main/data/train.csv')\n",
        "\n",
        "\n",
        "test_df = pd.read_csv('https://raw.githubusercontent.com/MacPaw/msi2021-data-science/main/data/test.csv')\n",
        "test_prices = pd.read_csv('https://raw.githubusercontent.com/MacPaw/msi2021-data-science/main/data/sample_prediction.csv')\n",
        "\n",
        "test_df['SalePrice'] = test_prices['SalePrice']\n",
        "\n",
        "all_df = pd.concat([train_df, test_df])\n",
        "all_df.drop('Id', axis=1, inplace=True)\n",
        "\n",
        "# creating a concatenated dataframe, encoding all categorical columns,\n",
        "# splitting the dataframe into train and test data\n",
        "# building a model on train data and then \n",
        "def convert_all_categorical(inp_df):\n",
        "    \"\"\"\n",
        "    Returns a new dataframe with encoded categorical columns.\n",
        "    To avoid multicollinearity, one needs to drop one variable -\n",
        "    for a column with n different categories, there will be created n - 1 columns.\n",
        "    \"\"\"\n",
        "    categorical_columns = ['MSSubClass', 'MSZoning', 'Street', 'Alley', 'LotShape',\n",
        "                       'LandContour', 'Utilities', 'LotConfig', 'LandSlope',\n",
        "                       'Neighborhood', 'Condition1', 'Condition2', 'BldgType',\n",
        "                       'HouseStyle', 'OverallQual', 'OverallCond', 'RoofStyle',\n",
        "                       'RoofMatl', 'Exterior1st', 'Exterior2nd', 'MasVnrType',\n",
        "                       'ExterQual', 'ExterCond', 'Foundation', 'BsmtQual',\n",
        "                       'BsmtCond', 'BsmtExposure', 'BsmtFinType1', 'BsmtFinType2',\n",
        "                       'Heating', 'HeatingQC', 'CentralAir', 'Electrical',\n",
        "                       'KitchenQual', 'Functional', 'FireplaceQu', 'GarageType',\n",
        "                       'GarageFinish', 'GarageQual', 'GarageCond', 'PavedDrive',\n",
        "                       'PoolQC', 'Fence', 'MiscFeature', 'SaleType', 'SaleCondition']\n",
        "    return pd.get_dummies(all_df, columns=categorical_columns, prefix=categorical_columns, drop_first=True)\n",
        "\n",
        "\n",
        "def clean_dataset(df):\n",
        "    \"\"\"\n",
        "    Needed for preventing ValueError:\n",
        "    Input contains NaN, infinity or a value too large for dtype('float64')\n",
        "    \"\"\"\n",
        "    assert isinstance(df, pd.DataFrame), \"df needs to be a pd.DataFrame\"\n",
        "    df.dropna(inplace=True)\n",
        "    indices_to_keep = ~df.isin([np.nan, np.inf, -np.inf]).any(1)\n",
        "    return df[indices_to_keep].astype(np.float64)\n",
        "\n",
        "\n",
        "# Was trying to conduct tests for heteroskedasticity,\n",
        "# but the White test was making the session run out of memory, while the \n",
        "# Breusch-Pagan test, being more time-efficient, raised some error I could not \n",
        "# resolve.\n",
        "\n",
        "\n",
        "def relevant_variables(inp_df):\n",
        "    \"\"\"\n",
        "    Function for choosing the important variables for a linear regression model\n",
        "    based on the p-value (which should be < 0.05, otherwise - neglected).\n",
        "    \"\"\"\n",
        "    Y_1 = inp_df[['SalePrice']]\n",
        "    Y = np.array(Y_1)\n",
        "    X = inp_df.copy()\n",
        "    X.drop('SalePrice', axis=1, inplace=True)\n",
        "    X_1 = np.array(X)\n",
        "    X2 = sm.add_constant(X_1)\n",
        "    est = sm.OLS(Y, X2).fit()\n",
        "    indices_to_keep = list()\n",
        "    p_values_list = est.pvalues\n",
        "    for i in range(1, len(p_values_list)):\n",
        "        if p_values_list[i] < 0.05:\n",
        "            indices_to_keep.append(i - 1) \n",
        "            # since 0-th element is the intercept\n",
        "            # and we want to keep the indices of the columns that are relevant\n",
        "            # by p-value\n",
        "    X_columns = X.columns\n",
        "    cols_to_keep = [X_columns[idx] for idx in indices_to_keep]\n",
        "    return X[cols_to_keep]\n",
        "\n",
        "\n",
        "converted_all_df = convert_all_categorical(all_df).reset_index()\n",
        "final_all_df = clean_dataset(converted_all_df)\n",
        "train, test = train_test_split(final_all_df, test_size=0.5)\n",
        "\n",
        "\n",
        "train, test = relevant_variables(train), relevant_variables(test)\n",
        "\n",
        "\n",
        "\n",
        "\n",
        "\n",
        "\n",
        "\n",
        "\n",
        "\n",
        "\n"
      ],
      "execution_count": 24,
      "outputs": [
        {
          "output_type": "stream",
          "text": [
            "      LotArea  YearBuilt  ...  PoolQC_Gd  SaleCondition_AdjLand\n",
            "1669  13514.0     2008.0  ...        0.0                    0.0\n",
            "1      9600.0     1976.0  ...        0.0                    0.0\n",
            "547    7244.0     1970.0  ...        0.0                    0.0\n",
            "744    5395.0     1993.0  ...        0.0                    0.0\n",
            "2400   5175.0     1958.0  ...        0.0                    0.0\n",
            "...       ...        ...  ...        ...                    ...\n",
            "585   11443.0     2005.0  ...        0.0                    0.0\n",
            "63    10300.0     1921.0  ...        0.0                    0.0\n",
            "779   10530.0     1977.0  ...        0.0                    0.0\n",
            "1046  16056.0     2005.0  ...        0.0                    0.0\n",
            "271   39104.0     1954.0  ...        0.0                    0.0\n",
            "\n",
            "[1133 rows x 33 columns]\n"
          ],
          "name": "stdout"
        },
        {
          "output_type": "stream",
          "text": [
            "/usr/local/lib/python3.7/dist-packages/statsmodels/base/model.py:1294: RuntimeWarning: invalid value encountered in true_divide\n",
            "  return self.params / self.bse\n"
          ],
          "name": "stderr"
        }
      ]
    },
    {
      "cell_type": "markdown",
      "metadata": {
        "id": "yFFyNHMqXWY1"
      },
      "source": [
        ""
      ]
    }
  ]
}